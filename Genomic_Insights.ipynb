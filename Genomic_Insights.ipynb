{
  "nbformat": 4,
  "nbformat_minor": 0,
  "metadata": {
    "colab": {
      "provenance": []
    },
    "kernelspec": {
      "name": "python3",
      "display_name": "Python 3"
    },
    "language_info": {
      "name": "python"
    }
  },
  "cells": [
    {
      "cell_type": "code",
      "execution_count": 2,
      "metadata": {
        "id": "b_divgq6QgW8"
      },
      "outputs": [],
      "source": [
        "import numpy as np\n",
        "import pandas as pd\n",
        "import os\n",
        "for dirname, _, filenames in os.walk('/content/sequence_ecoli.fasta'):\n",
        "    for filename in filenames:\n",
        "        print(os.path.join(dirname, filename))"
      ]
    },
    {
      "cell_type": "code",
      "source": [
        "!pip install nglview\n",
        "!pip install Bio\n",
        "!pip install colorama\n",
        "!pip install seaborn\n",
        "import Bio\n",
        "from Bio.Seq import Seq\n",
        "from Bio.SeqRecord import SeqRecord\n",
        "from Bio import SeqIO\n",
        "from Bio import AlignIO\n",
        "from Bio.pairwise2 import format_alignment\n",
        "from Bio.Align import MultipleSeqAlignment\n",
        "from Bio.Blast import NCBIWWW\n",
        "from Bio.SeqUtils.ProtParam import ProteinAnalysis\n",
        "from Bio.Data import CodonTable\n",
        "import nglview as nv\n",
        "import matplotlib.pyplot as plt\n",
        "%matplotlib inline\n",
        "from colorama import Back, Style, Fore\n",
        "import seaborn as sns\n",
        "import pandas as pd\n"
      ],
      "metadata": {
        "colab": {
          "base_uri": "https://localhost:8080/"
        },
        "id": "cMTjV4KhRUKR",
        "outputId": "e3367979-004a-4840-cf8c-8ea52fd701d3"
      },
      "execution_count": 23,
      "outputs": [
        {
          "output_type": "stream",
          "name": "stdout",
          "text": [
            "Requirement already satisfied: nglview in /usr/local/lib/python3.10/dist-packages (3.1.2)\n",
            "Requirement already satisfied: ipywidgets>=8 in /usr/local/lib/python3.10/dist-packages (from nglview) (8.1.3)\n",
            "Requirement already satisfied: notebook>=7 in /usr/local/lib/python3.10/dist-packages (from nglview) (7.2.1)\n",
            "Requirement already satisfied: jupyterlab-widgets in /usr/local/lib/python3.10/dist-packages (from nglview) (3.0.11)\n",
            "Requirement already satisfied: numpy in /usr/local/lib/python3.10/dist-packages (from nglview) (1.25.2)\n",
            "Requirement already satisfied: comm>=0.1.3 in /usr/local/lib/python3.10/dist-packages (from ipywidgets>=8->nglview) (0.2.2)\n",
            "Requirement already satisfied: ipython>=6.1.0 in /usr/local/lib/python3.10/dist-packages (from ipywidgets>=8->nglview) (7.34.0)\n",
            "Requirement already satisfied: traitlets>=4.3.1 in /usr/local/lib/python3.10/dist-packages (from ipywidgets>=8->nglview) (5.7.1)\n",
            "Requirement already satisfied: widgetsnbextension~=4.0.11 in /usr/local/lib/python3.10/dist-packages (from ipywidgets>=8->nglview) (4.0.11)\n",
            "Requirement already satisfied: jupyter-server<3,>=2.4.0 in /usr/local/lib/python3.10/dist-packages (from notebook>=7->nglview) (2.14.1)\n",
            "Requirement already satisfied: jupyterlab-server<3,>=2.27.1 in /usr/local/lib/python3.10/dist-packages (from notebook>=7->nglview) (2.27.2)\n",
            "Requirement already satisfied: jupyterlab<4.3,>=4.2.0 in /usr/local/lib/python3.10/dist-packages (from notebook>=7->nglview) (4.2.2)\n",
            "Requirement already satisfied: notebook-shim<0.3,>=0.2 in /usr/local/lib/python3.10/dist-packages (from notebook>=7->nglview) (0.2.4)\n",
            "Requirement already satisfied: tornado>=6.2.0 in /usr/local/lib/python3.10/dist-packages (from notebook>=7->nglview) (6.3.3)\n",
            "Requirement already satisfied: setuptools>=18.5 in /usr/local/lib/python3.10/dist-packages (from ipython>=6.1.0->ipywidgets>=8->nglview) (67.7.2)\n",
            "Requirement already satisfied: jedi>=0.16 in /usr/local/lib/python3.10/dist-packages (from ipython>=6.1.0->ipywidgets>=8->nglview) (0.19.1)\n",
            "Requirement already satisfied: decorator in /usr/local/lib/python3.10/dist-packages (from ipython>=6.1.0->ipywidgets>=8->nglview) (4.4.2)\n",
            "Requirement already satisfied: pickleshare in /usr/local/lib/python3.10/dist-packages (from ipython>=6.1.0->ipywidgets>=8->nglview) (0.7.5)\n",
            "Requirement already satisfied: prompt-toolkit!=3.0.0,!=3.0.1,<3.1.0,>=2.0.0 in /usr/local/lib/python3.10/dist-packages (from ipython>=6.1.0->ipywidgets>=8->nglview) (3.0.47)\n",
            "Requirement already satisfied: pygments in /usr/local/lib/python3.10/dist-packages (from ipython>=6.1.0->ipywidgets>=8->nglview) (2.16.1)\n",
            "Requirement already satisfied: backcall in /usr/local/lib/python3.10/dist-packages (from ipython>=6.1.0->ipywidgets>=8->nglview) (0.2.0)\n",
            "Requirement already satisfied: matplotlib-inline in /usr/local/lib/python3.10/dist-packages (from ipython>=6.1.0->ipywidgets>=8->nglview) (0.1.7)\n",
            "Requirement already satisfied: pexpect>4.3 in /usr/local/lib/python3.10/dist-packages (from ipython>=6.1.0->ipywidgets>=8->nglview) (4.9.0)\n",
            "Requirement already satisfied: anyio>=3.1.0 in /usr/local/lib/python3.10/dist-packages (from jupyter-server<3,>=2.4.0->notebook>=7->nglview) (3.7.1)\n",
            "Requirement already satisfied: argon2-cffi>=21.1 in /usr/local/lib/python3.10/dist-packages (from jupyter-server<3,>=2.4.0->notebook>=7->nglview) (23.1.0)\n",
            "Requirement already satisfied: jinja2>=3.0.3 in /usr/local/lib/python3.10/dist-packages (from jupyter-server<3,>=2.4.0->notebook>=7->nglview) (3.1.4)\n",
            "Requirement already satisfied: jupyter-client>=7.4.4 in /usr/local/lib/python3.10/dist-packages (from jupyter-server<3,>=2.4.0->notebook>=7->nglview) (8.6.2)\n",
            "Requirement already satisfied: jupyter-core!=5.0.*,>=4.12 in /usr/local/lib/python3.10/dist-packages (from jupyter-server<3,>=2.4.0->notebook>=7->nglview) (5.7.2)\n",
            "Requirement already satisfied: jupyter-events>=0.9.0 in /usr/local/lib/python3.10/dist-packages (from jupyter-server<3,>=2.4.0->notebook>=7->nglview) (0.10.0)\n",
            "Requirement already satisfied: jupyter-server-terminals>=0.4.4 in /usr/local/lib/python3.10/dist-packages (from jupyter-server<3,>=2.4.0->notebook>=7->nglview) (0.5.3)\n",
            "Requirement already satisfied: nbconvert>=6.4.4 in /usr/local/lib/python3.10/dist-packages (from jupyter-server<3,>=2.4.0->notebook>=7->nglview) (6.5.4)\n",
            "Requirement already satisfied: nbformat>=5.3.0 in /usr/local/lib/python3.10/dist-packages (from jupyter-server<3,>=2.4.0->notebook>=7->nglview) (5.10.4)\n",
            "Requirement already satisfied: overrides>=5.0 in /usr/local/lib/python3.10/dist-packages (from jupyter-server<3,>=2.4.0->notebook>=7->nglview) (7.7.0)\n",
            "Requirement already satisfied: packaging>=22.0 in /usr/local/lib/python3.10/dist-packages (from jupyter-server<3,>=2.4.0->notebook>=7->nglview) (24.1)\n",
            "Requirement already satisfied: prometheus-client>=0.9 in /usr/local/lib/python3.10/dist-packages (from jupyter-server<3,>=2.4.0->notebook>=7->nglview) (0.20.0)\n",
            "Requirement already satisfied: pyzmq>=24 in /usr/local/lib/python3.10/dist-packages (from jupyter-server<3,>=2.4.0->notebook>=7->nglview) (24.0.1)\n",
            "Requirement already satisfied: send2trash>=1.8.2 in /usr/local/lib/python3.10/dist-packages (from jupyter-server<3,>=2.4.0->notebook>=7->nglview) (1.8.3)\n",
            "Requirement already satisfied: terminado>=0.8.3 in /usr/local/lib/python3.10/dist-packages (from jupyter-server<3,>=2.4.0->notebook>=7->nglview) (0.18.1)\n",
            "Requirement already satisfied: websocket-client>=1.7 in /usr/local/lib/python3.10/dist-packages (from jupyter-server<3,>=2.4.0->notebook>=7->nglview) (1.8.0)\n",
            "Requirement already satisfied: async-lru>=1.0.0 in /usr/local/lib/python3.10/dist-packages (from jupyterlab<4.3,>=4.2.0->notebook>=7->nglview) (2.0.4)\n",
            "Requirement already satisfied: httpx>=0.25.0 in /usr/local/lib/python3.10/dist-packages (from jupyterlab<4.3,>=4.2.0->notebook>=7->nglview) (0.27.0)\n",
            "Requirement already satisfied: ipykernel>=6.5.0 in /usr/local/lib/python3.10/dist-packages (from jupyterlab<4.3,>=4.2.0->notebook>=7->nglview) (6.29.4)\n",
            "Requirement already satisfied: jupyter-lsp>=2.0.0 in /usr/local/lib/python3.10/dist-packages (from jupyterlab<4.3,>=4.2.0->notebook>=7->nglview) (2.2.5)\n",
            "Requirement already satisfied: tomli>=1.2.2 in /usr/local/lib/python3.10/dist-packages (from jupyterlab<4.3,>=4.2.0->notebook>=7->nglview) (2.0.1)\n",
            "Requirement already satisfied: babel>=2.10 in /usr/local/lib/python3.10/dist-packages (from jupyterlab-server<3,>=2.27.1->notebook>=7->nglview) (2.15.0)\n",
            "Requirement already satisfied: json5>=0.9.0 in /usr/local/lib/python3.10/dist-packages (from jupyterlab-server<3,>=2.27.1->notebook>=7->nglview) (0.9.25)\n",
            "Requirement already satisfied: jsonschema>=4.18.0 in /usr/local/lib/python3.10/dist-packages (from jupyterlab-server<3,>=2.27.1->notebook>=7->nglview) (4.19.2)\n",
            "Requirement already satisfied: requests>=2.31 in /usr/local/lib/python3.10/dist-packages (from jupyterlab-server<3,>=2.27.1->notebook>=7->nglview) (2.31.0)\n",
            "Requirement already satisfied: idna>=2.8 in /usr/local/lib/python3.10/dist-packages (from anyio>=3.1.0->jupyter-server<3,>=2.4.0->notebook>=7->nglview) (3.7)\n",
            "Requirement already satisfied: sniffio>=1.1 in /usr/local/lib/python3.10/dist-packages (from anyio>=3.1.0->jupyter-server<3,>=2.4.0->notebook>=7->nglview) (1.3.1)\n",
            "Requirement already satisfied: exceptiongroup in /usr/local/lib/python3.10/dist-packages (from anyio>=3.1.0->jupyter-server<3,>=2.4.0->notebook>=7->nglview) (1.2.1)\n",
            "Requirement already satisfied: argon2-cffi-bindings in /usr/local/lib/python3.10/dist-packages (from argon2-cffi>=21.1->jupyter-server<3,>=2.4.0->notebook>=7->nglview) (21.2.0)\n",
            "Requirement already satisfied: typing-extensions>=4.0.0 in /usr/local/lib/python3.10/dist-packages (from async-lru>=1.0.0->jupyterlab<4.3,>=4.2.0->notebook>=7->nglview) (4.12.2)\n",
            "Requirement already satisfied: certifi in /usr/local/lib/python3.10/dist-packages (from httpx>=0.25.0->jupyterlab<4.3,>=4.2.0->notebook>=7->nglview) (2024.6.2)\n",
            "Requirement already satisfied: httpcore==1.* in /usr/local/lib/python3.10/dist-packages (from httpx>=0.25.0->jupyterlab<4.3,>=4.2.0->notebook>=7->nglview) (1.0.5)\n",
            "Requirement already satisfied: h11<0.15,>=0.13 in /usr/local/lib/python3.10/dist-packages (from httpcore==1.*->httpx>=0.25.0->jupyterlab<4.3,>=4.2.0->notebook>=7->nglview) (0.14.0)\n",
            "Requirement already satisfied: debugpy>=1.6.5 in /usr/local/lib/python3.10/dist-packages (from ipykernel>=6.5.0->jupyterlab<4.3,>=4.2.0->notebook>=7->nglview) (1.6.6)\n",
            "Requirement already satisfied: nest-asyncio in /usr/local/lib/python3.10/dist-packages (from ipykernel>=6.5.0->jupyterlab<4.3,>=4.2.0->notebook>=7->nglview) (1.6.0)\n",
            "Requirement already satisfied: psutil in /usr/local/lib/python3.10/dist-packages (from ipykernel>=6.5.0->jupyterlab<4.3,>=4.2.0->notebook>=7->nglview) (5.9.5)\n",
            "Requirement already satisfied: parso<0.9.0,>=0.8.3 in /usr/local/lib/python3.10/dist-packages (from jedi>=0.16->ipython>=6.1.0->ipywidgets>=8->nglview) (0.8.4)\n",
            "Requirement already satisfied: MarkupSafe>=2.0 in /usr/local/lib/python3.10/dist-packages (from jinja2>=3.0.3->jupyter-server<3,>=2.4.0->notebook>=7->nglview) (2.1.5)\n",
            "Requirement already satisfied: attrs>=22.2.0 in /usr/local/lib/python3.10/dist-packages (from jsonschema>=4.18.0->jupyterlab-server<3,>=2.27.1->notebook>=7->nglview) (23.2.0)\n",
            "Requirement already satisfied: jsonschema-specifications>=2023.03.6 in /usr/local/lib/python3.10/dist-packages (from jsonschema>=4.18.0->jupyterlab-server<3,>=2.27.1->notebook>=7->nglview) (2023.12.1)\n",
            "Requirement already satisfied: referencing>=0.28.4 in /usr/local/lib/python3.10/dist-packages (from jsonschema>=4.18.0->jupyterlab-server<3,>=2.27.1->notebook>=7->nglview) (0.35.1)\n",
            "Requirement already satisfied: rpds-py>=0.7.1 in /usr/local/lib/python3.10/dist-packages (from jsonschema>=4.18.0->jupyterlab-server<3,>=2.27.1->notebook>=7->nglview) (0.18.1)\n",
            "Requirement already satisfied: python-dateutil>=2.8.2 in /usr/local/lib/python3.10/dist-packages (from jupyter-client>=7.4.4->jupyter-server<3,>=2.4.0->notebook>=7->nglview) (2.8.2)\n",
            "Requirement already satisfied: platformdirs>=2.5 in /usr/local/lib/python3.10/dist-packages (from jupyter-core!=5.0.*,>=4.12->jupyter-server<3,>=2.4.0->notebook>=7->nglview) (4.2.2)\n",
            "Requirement already satisfied: python-json-logger>=2.0.4 in /usr/local/lib/python3.10/dist-packages (from jupyter-events>=0.9.0->jupyter-server<3,>=2.4.0->notebook>=7->nglview) (2.0.7)\n",
            "Requirement already satisfied: pyyaml>=5.3 in /usr/local/lib/python3.10/dist-packages (from jupyter-events>=0.9.0->jupyter-server<3,>=2.4.0->notebook>=7->nglview) (6.0.1)\n",
            "Requirement already satisfied: rfc3339-validator in /usr/local/lib/python3.10/dist-packages (from jupyter-events>=0.9.0->jupyter-server<3,>=2.4.0->notebook>=7->nglview) (0.1.4)\n",
            "Requirement already satisfied: rfc3986-validator>=0.1.1 in /usr/local/lib/python3.10/dist-packages (from jupyter-events>=0.9.0->jupyter-server<3,>=2.4.0->notebook>=7->nglview) (0.1.1)\n",
            "Requirement already satisfied: lxml in /usr/local/lib/python3.10/dist-packages (from nbconvert>=6.4.4->jupyter-server<3,>=2.4.0->notebook>=7->nglview) (4.9.4)\n",
            "Requirement already satisfied: beautifulsoup4 in /usr/local/lib/python3.10/dist-packages (from nbconvert>=6.4.4->jupyter-server<3,>=2.4.0->notebook>=7->nglview) (4.12.3)\n",
            "Requirement already satisfied: bleach in /usr/local/lib/python3.10/dist-packages (from nbconvert>=6.4.4->jupyter-server<3,>=2.4.0->notebook>=7->nglview) (6.1.0)\n",
            "Requirement already satisfied: defusedxml in /usr/local/lib/python3.10/dist-packages (from nbconvert>=6.4.4->jupyter-server<3,>=2.4.0->notebook>=7->nglview) (0.7.1)\n",
            "Requirement already satisfied: entrypoints>=0.2.2 in /usr/local/lib/python3.10/dist-packages (from nbconvert>=6.4.4->jupyter-server<3,>=2.4.0->notebook>=7->nglview) (0.4)\n",
            "Requirement already satisfied: jupyterlab-pygments in /usr/local/lib/python3.10/dist-packages (from nbconvert>=6.4.4->jupyter-server<3,>=2.4.0->notebook>=7->nglview) (0.3.0)\n",
            "Requirement already satisfied: mistune<2,>=0.8.1 in /usr/local/lib/python3.10/dist-packages (from nbconvert>=6.4.4->jupyter-server<3,>=2.4.0->notebook>=7->nglview) (0.8.4)\n",
            "Requirement already satisfied: nbclient>=0.5.0 in /usr/local/lib/python3.10/dist-packages (from nbconvert>=6.4.4->jupyter-server<3,>=2.4.0->notebook>=7->nglview) (0.10.0)\n",
            "Requirement already satisfied: pandocfilters>=1.4.1 in /usr/local/lib/python3.10/dist-packages (from nbconvert>=6.4.4->jupyter-server<3,>=2.4.0->notebook>=7->nglview) (1.5.1)\n",
            "Requirement already satisfied: tinycss2 in /usr/local/lib/python3.10/dist-packages (from nbconvert>=6.4.4->jupyter-server<3,>=2.4.0->notebook>=7->nglview) (1.3.0)\n",
            "Requirement already satisfied: fastjsonschema>=2.15 in /usr/local/lib/python3.10/dist-packages (from nbformat>=5.3.0->jupyter-server<3,>=2.4.0->notebook>=7->nglview) (2.20.0)\n",
            "Requirement already satisfied: ptyprocess>=0.5 in /usr/local/lib/python3.10/dist-packages (from pexpect>4.3->ipython>=6.1.0->ipywidgets>=8->nglview) (0.7.0)\n",
            "Requirement already satisfied: wcwidth in /usr/local/lib/python3.10/dist-packages (from prompt-toolkit!=3.0.0,!=3.0.1,<3.1.0,>=2.0.0->ipython>=6.1.0->ipywidgets>=8->nglview) (0.2.13)\n",
            "Requirement already satisfied: charset-normalizer<4,>=2 in /usr/local/lib/python3.10/dist-packages (from requests>=2.31->jupyterlab-server<3,>=2.27.1->notebook>=7->nglview) (3.3.2)\n",
            "Requirement already satisfied: urllib3<3,>=1.21.1 in /usr/local/lib/python3.10/dist-packages (from requests>=2.31->jupyterlab-server<3,>=2.27.1->notebook>=7->nglview) (2.0.7)\n",
            "Requirement already satisfied: fqdn in /usr/local/lib/python3.10/dist-packages (from jsonschema>=4.18.0->jupyterlab-server<3,>=2.27.1->notebook>=7->nglview) (1.5.1)\n",
            "Requirement already satisfied: isoduration in /usr/local/lib/python3.10/dist-packages (from jsonschema>=4.18.0->jupyterlab-server<3,>=2.27.1->notebook>=7->nglview) (20.11.0)\n",
            "Requirement already satisfied: jsonpointer>1.13 in /usr/local/lib/python3.10/dist-packages (from jsonschema>=4.18.0->jupyterlab-server<3,>=2.27.1->notebook>=7->nglview) (3.0.0)\n",
            "Requirement already satisfied: uri-template in /usr/local/lib/python3.10/dist-packages (from jsonschema>=4.18.0->jupyterlab-server<3,>=2.27.1->notebook>=7->nglview) (1.3.0)\n",
            "Requirement already satisfied: webcolors>=1.11 in /usr/local/lib/python3.10/dist-packages (from jsonschema>=4.18.0->jupyterlab-server<3,>=2.27.1->notebook>=7->nglview) (24.6.0)\n",
            "Requirement already satisfied: six>=1.5 in /usr/local/lib/python3.10/dist-packages (from python-dateutil>=2.8.2->jupyter-client>=7.4.4->jupyter-server<3,>=2.4.0->notebook>=7->nglview) (1.16.0)\n",
            "Requirement already satisfied: cffi>=1.0.1 in /usr/local/lib/python3.10/dist-packages (from argon2-cffi-bindings->argon2-cffi>=21.1->jupyter-server<3,>=2.4.0->notebook>=7->nglview) (1.16.0)\n",
            "Requirement already satisfied: soupsieve>1.2 in /usr/local/lib/python3.10/dist-packages (from beautifulsoup4->nbconvert>=6.4.4->jupyter-server<3,>=2.4.0->notebook>=7->nglview) (2.5)\n",
            "Requirement already satisfied: webencodings in /usr/local/lib/python3.10/dist-packages (from bleach->nbconvert>=6.4.4->jupyter-server<3,>=2.4.0->notebook>=7->nglview) (0.5.1)\n",
            "Requirement already satisfied: pycparser in /usr/local/lib/python3.10/dist-packages (from cffi>=1.0.1->argon2-cffi-bindings->argon2-cffi>=21.1->jupyter-server<3,>=2.4.0->notebook>=7->nglview) (2.22)\n",
            "Requirement already satisfied: arrow>=0.15.0 in /usr/local/lib/python3.10/dist-packages (from isoduration->jsonschema>=4.18.0->jupyterlab-server<3,>=2.27.1->notebook>=7->nglview) (1.3.0)\n",
            "Requirement already satisfied: types-python-dateutil>=2.8.10 in /usr/local/lib/python3.10/dist-packages (from arrow>=0.15.0->isoduration->jsonschema>=4.18.0->jupyterlab-server<3,>=2.27.1->notebook>=7->nglview) (2.9.0.20240316)\n",
            "Requirement already satisfied: Bio in /usr/local/lib/python3.10/dist-packages (1.7.1)\n",
            "Requirement already satisfied: biopython>=1.80 in /usr/local/lib/python3.10/dist-packages (from Bio) (1.83)\n",
            "Requirement already satisfied: gprofiler-official in /usr/local/lib/python3.10/dist-packages (from Bio) (1.0.0)\n",
            "Requirement already satisfied: mygene in /usr/local/lib/python3.10/dist-packages (from Bio) (3.2.2)\n",
            "Requirement already satisfied: pandas in /usr/local/lib/python3.10/dist-packages (from Bio) (2.0.3)\n",
            "Requirement already satisfied: pooch in /usr/local/lib/python3.10/dist-packages (from Bio) (1.8.2)\n",
            "Requirement already satisfied: requests in /usr/local/lib/python3.10/dist-packages (from Bio) (2.31.0)\n",
            "Requirement already satisfied: tqdm in /usr/local/lib/python3.10/dist-packages (from Bio) (4.66.4)\n",
            "Requirement already satisfied: numpy in /usr/local/lib/python3.10/dist-packages (from biopython>=1.80->Bio) (1.25.2)\n",
            "Requirement already satisfied: biothings-client>=0.2.6 in /usr/local/lib/python3.10/dist-packages (from mygene->Bio) (0.3.1)\n",
            "Requirement already satisfied: python-dateutil>=2.8.2 in /usr/local/lib/python3.10/dist-packages (from pandas->Bio) (2.8.2)\n",
            "Requirement already satisfied: pytz>=2020.1 in /usr/local/lib/python3.10/dist-packages (from pandas->Bio) (2023.4)\n",
            "Requirement already satisfied: tzdata>=2022.1 in /usr/local/lib/python3.10/dist-packages (from pandas->Bio) (2024.1)\n",
            "Requirement already satisfied: platformdirs>=2.5.0 in /usr/local/lib/python3.10/dist-packages (from pooch->Bio) (4.2.2)\n",
            "Requirement already satisfied: packaging>=20.0 in /usr/local/lib/python3.10/dist-packages (from pooch->Bio) (24.1)\n",
            "Requirement already satisfied: charset-normalizer<4,>=2 in /usr/local/lib/python3.10/dist-packages (from requests->Bio) (3.3.2)\n",
            "Requirement already satisfied: idna<4,>=2.5 in /usr/local/lib/python3.10/dist-packages (from requests->Bio) (3.7)\n",
            "Requirement already satisfied: urllib3<3,>=1.21.1 in /usr/local/lib/python3.10/dist-packages (from requests->Bio) (2.0.7)\n",
            "Requirement already satisfied: certifi>=2017.4.17 in /usr/local/lib/python3.10/dist-packages (from requests->Bio) (2024.6.2)\n",
            "Requirement already satisfied: six>=1.5 in /usr/local/lib/python3.10/dist-packages (from python-dateutil>=2.8.2->pandas->Bio) (1.16.0)\n",
            "Requirement already satisfied: colorama in /usr/local/lib/python3.10/dist-packages (0.4.6)\n",
            "Requirement already satisfied: seaborn in /usr/local/lib/python3.10/dist-packages (0.13.1)\n",
            "Requirement already satisfied: numpy!=1.24.0,>=1.20 in /usr/local/lib/python3.10/dist-packages (from seaborn) (1.25.2)\n",
            "Requirement already satisfied: pandas>=1.2 in /usr/local/lib/python3.10/dist-packages (from seaborn) (2.0.3)\n",
            "Requirement already satisfied: matplotlib!=3.6.1,>=3.4 in /usr/local/lib/python3.10/dist-packages (from seaborn) (3.7.1)\n",
            "Requirement already satisfied: contourpy>=1.0.1 in /usr/local/lib/python3.10/dist-packages (from matplotlib!=3.6.1,>=3.4->seaborn) (1.2.1)\n",
            "Requirement already satisfied: cycler>=0.10 in /usr/local/lib/python3.10/dist-packages (from matplotlib!=3.6.1,>=3.4->seaborn) (0.12.1)\n",
            "Requirement already satisfied: fonttools>=4.22.0 in /usr/local/lib/python3.10/dist-packages (from matplotlib!=3.6.1,>=3.4->seaborn) (4.53.0)\n",
            "Requirement already satisfied: kiwisolver>=1.0.1 in /usr/local/lib/python3.10/dist-packages (from matplotlib!=3.6.1,>=3.4->seaborn) (1.4.5)\n",
            "Requirement already satisfied: packaging>=20.0 in /usr/local/lib/python3.10/dist-packages (from matplotlib!=3.6.1,>=3.4->seaborn) (24.1)\n",
            "Requirement already satisfied: pillow>=6.2.0 in /usr/local/lib/python3.10/dist-packages (from matplotlib!=3.6.1,>=3.4->seaborn) (9.4.0)\n",
            "Requirement already satisfied: pyparsing>=2.3.1 in /usr/local/lib/python3.10/dist-packages (from matplotlib!=3.6.1,>=3.4->seaborn) (3.1.2)\n",
            "Requirement already satisfied: python-dateutil>=2.7 in /usr/local/lib/python3.10/dist-packages (from matplotlib!=3.6.1,>=3.4->seaborn) (2.8.2)\n",
            "Requirement already satisfied: pytz>=2020.1 in /usr/local/lib/python3.10/dist-packages (from pandas>=1.2->seaborn) (2023.4)\n",
            "Requirement already satisfied: tzdata>=2022.1 in /usr/local/lib/python3.10/dist-packages (from pandas>=1.2->seaborn) (2024.1)\n",
            "Requirement already satisfied: six>=1.5 in /usr/local/lib/python3.10/dist-packages (from python-dateutil>=2.7->matplotlib!=3.6.1,>=3.4->seaborn) (1.16.0)\n"
          ]
        }
      ]
    },
    {
      "cell_type": "code",
      "source": [
        "import os\n",
        "fn = r'/sequence_ecoli.fasta'\n",
        "os.path.exists(fn)"
      ],
      "metadata": {
        "colab": {
          "base_uri": "https://localhost:8080/"
        },
        "id": "5IXSmYvkp_f2",
        "outputId": "7b0e9779-ac48-41a1-f854-1e5ae2387bc0"
      },
      "execution_count": 7,
      "outputs": [
        {
          "output_type": "execute_result",
          "data": {
            "text/plain": [
              "True"
            ]
          },
          "metadata": {},
          "execution_count": 7
        }
      ]
    },
    {
      "cell_type": "code",
      "source": [
        "for record in SeqIO.parse(\"/sequence_ecoli.fasta\", \"fasta\"):\n",
        "    print(record.id)"
      ],
      "metadata": {
        "colab": {
          "base_uri": "https://localhost:8080/"
        },
        "id": "geJT5UX_fFE0",
        "outputId": "e3fcead3-30fe-4644-fb97-7e8390e97505"
      },
      "execution_count": 9,
      "outputs": [
        {
          "output_type": "stream",
          "name": "stdout",
          "text": [
            "AY893111.1\n"
          ]
        }
      ]
    },
    {
      "cell_type": "code",
      "source": [
        "ncov_record = SeqIO.read(\"/sequence_ecoli.fasta\", \"fasta\")\n",
        "ncov_record"
      ],
      "metadata": {
        "colab": {
          "base_uri": "https://localhost:8080/"
        },
        "id": "Zev9xA_fsfiN",
        "outputId": "7cfb6303-163b-4001-bd25-fa82d40a8a61"
      },
      "execution_count": 10,
      "outputs": [
        {
          "output_type": "execute_result",
          "data": {
            "text/plain": [
              "SeqRecord(seq=Seq('ATGGGGAAGATGGCAGCGGCCGTGGGCTCTGTGGCGACTCTGGCGACTGAGCCC...TTG'), id='AY893111.1', name='AY893111.1', description='AY893111.1 Synthetic construct Homo sapiens clone FLH119406.01L alkB, alkylation repair-like (E. coli) mRNA, partial cds', dbxrefs=[])"
            ]
          },
          "metadata": {},
          "execution_count": 10
        }
      ]
    },
    {
      "cell_type": "code",
      "source": [
        "ncov_dna = ncov_record.seq\n",
        "ncov_dna"
      ],
      "metadata": {
        "colab": {
          "base_uri": "https://localhost:8080/"
        },
        "id": "palrHK6WsoQm",
        "outputId": "017f9894-4a3b-408e-d670-47990e6aea85"
      },
      "execution_count": 11,
      "outputs": [
        {
          "output_type": "execute_result",
          "data": {
            "text/plain": [
              "Seq('ATGGGGAAGATGGCAGCGGCCGTGGGCTCTGTGGCGACTCTGGCGACTGAGCCC...TTG')"
            ]
          },
          "metadata": {},
          "execution_count": 11
        }
      ]
    },
    {
      "cell_type": "code",
      "source": [
        "def ten_nucleotide_seq(genome):\n",
        "    genes = []\n",
        "    for ix, char in enumerate(genome):\n",
        "        if ix != 0 and ix%10 == 0:\n",
        "            genes.append(' ')\n",
        "        genes.append(char)\n",
        "    return ''.join(genes)\n",
        "\n",
        "# color code to represent genome sequences\n",
        "nu_clr_switcher = {\n",
        "    # standard color-codes\n",
        "    'A': Back.GREEN,\n",
        "    'C': Back.YELLOW,\n",
        "    'G': Back.RED,\n",
        "    'T': Back.BLUE,\n",
        "    ' ': Style.RESET_ALL\n",
        "}\n",
        "protein_clr_switcher = {\n",
        "    # color-code by proteinfamily's polarity\n",
        "    'A': Back.BLUE,\n",
        "    'V': Back.BLUE,\n",
        "    'I': Back.BLUE,\n",
        "    'L': Back.BLUE,\n",
        "    'M': Back.BLUE,\n",
        "    'F': Back.BLUE,\n",
        "    'Y': Back.CYAN,\n",
        "    'W': Back.BLUE,\n",
        "    'H': Back.CYAN,\n",
        "    'R': Back.RED,\n",
        "    'K': Back.RED,\n",
        "    'N': Back.GREEN,\n",
        "    'Q': Back.GREEN,\n",
        "    'E': Back.MAGENTA,\n",
        "    'D': Back.MAGENTA,\n",
        "    'S': Back.GREEN,\n",
        "    'T': Back.GREEN,\n",
        "    'G': Back.YELLOW,\n",
        "    'P': Back.YELLOW,\n",
        "    'C': Back.BLUE,\n",
        "    ' ': Style.RESET_ALL\n",
        "}\n",
        "def seq_repr(genome_str, strand ='dna'):\n",
        "    if strand == 'dna':\n",
        "        genome_str = ten_nucleotide_seq(genome=genome_str)\n",
        "        line_break_cntr = 0\n",
        "        for i in range(len(genome_str)):\n",
        "            if genome_str[i] == ' ':\n",
        "                line_break_cntr += 1\n",
        "                if line_break_cntr>0 and line_break_cntr%6==0:\n",
        "                    text = \"\\n\"\n",
        "                else:\n",
        "                    text = nu_clr_switcher[genome_str[i]] + genome_str[i]\n",
        "            else:\n",
        "                text = nu_clr_switcher[genome_str[i]] + genome_str[i]\n",
        "            print(text, end=\"\")\n",
        "        Style.RESET_ALL\n",
        "    if strand == 'protein':\n",
        "        for i in range(len(genome_str)):\n",
        "            if genome_str[i] in protein_clr_switcher:\n",
        "                if genome_str[i] == 'S' and genome_str[i+1:i+4] == 'TOP':\n",
        "                    text = Style.RESET_ALL + 'S'\n",
        "                elif genome_str[i] == 'T' and genome_str[i-1] == 'S' and genome_str[i+1:i+3] == 'OP':\n",
        "                    text = Style.RESET_ALL + 'T'\n",
        "                elif genome_str[i] == 'P' and genome_str[i-3:i] == 'STO':\n",
        "                    text = Style.RESET_ALL + 'P'\n",
        "                else:\n",
        "                    text = protein_clr_switcher[genome_str[i]] + genome_str[i]\n",
        "            else:\n",
        "                Style.RESET_ALL\n",
        "                text = genome_str[i]\n",
        "            print(text, end=\"\")"
      ],
      "metadata": {
        "id": "Ya9uJG9sQ0av"
      },
      "execution_count": 12,
      "outputs": []
    },
    {
      "cell_type": "code",
      "source": [
        "print(\"DNA sequence: \")\n",
        "seq_repr(genome_str=ncov_dna, strand='dna')"
      ],
      "metadata": {
        "colab": {
          "base_uri": "https://localhost:8080/"
        },
        "id": "fta23-sBymvy",
        "outputId": "5e0f5264-506e-4370-e714-cbba4f3b7a5b"
      },
      "execution_count": 13,
      "outputs": [
        {
          "output_type": "stream",
          "name": "stdout",
          "text": [
            "DNA sequence: \n",
            "\u001b[42mA\u001b[44mT\u001b[41mG\u001b[41mG\u001b[41mG\u001b[41mG\u001b[42mA\u001b[42mA\u001b[41mG\u001b[42mA\u001b[0m \u001b[44mT\u001b[41mG\u001b[41mG\u001b[43mC\u001b[42mA\u001b[41mG\u001b[43mC\u001b[41mG\u001b[41mG\u001b[43mC\u001b[0m \u001b[43mC\u001b[41mG\u001b[44mT\u001b[41mG\u001b[41mG\u001b[41mG\u001b[43mC\u001b[44mT\u001b[43mC\u001b[44mT\u001b[0m \u001b[41mG\u001b[44mT\u001b[41mG\u001b[41mG\u001b[43mC\u001b[41mG\u001b[42mA\u001b[43mC\u001b[44mT\u001b[43mC\u001b[0m \u001b[44mT\u001b[41mG\u001b[41mG\u001b[43mC\u001b[41mG\u001b[42mA\u001b[43mC\u001b[44mT\u001b[41mG\u001b[42mA\u001b[0m \u001b[41mG\u001b[43mC\u001b[43mC\u001b[43mC\u001b[41mG\u001b[41mG\u001b[41mG\u001b[41mG\u001b[42mA\u001b[41mG\n",
            "\u001b[41mG\u001b[42mA\u001b[43mC\u001b[41mG\u001b[43mC\u001b[43mC\u001b[44mT\u001b[44mT\u001b[44mT\u001b[43mC\u001b[0m \u001b[41mG\u001b[41mG\u001b[42mA\u001b[42mA\u001b[42mA\u001b[43mC\u001b[44mT\u001b[44mT\u001b[44mT\u001b[44mT\u001b[0m \u001b[43mC\u001b[43mC\u001b[41mG\u001b[43mC\u001b[44mT\u001b[44mT\u001b[43mC\u001b[44mT\u001b[42mA\u001b[43mC\u001b[0m \u001b[43mC\u001b[41mG\u001b[44mT\u001b[43mC\u001b[42mA\u001b[41mG\u001b[42mA\u001b[41mG\u001b[43mC\u001b[43mC\u001b[0m \u001b[41mG\u001b[41mG\u001b[43mC\u001b[43mC\u001b[43mC\u001b[41mG\u001b[41mG\u001b[41mG\u001b[42mA\u001b[43mC\u001b[0m \u001b[43mC\u001b[41mG\u001b[43mC\u001b[42mA\u001b[41mG\u001b[42mA\u001b[43mC\u001b[43mC\u001b[44mT\u001b[41mG\n",
            "\u001b[41mG\u001b[42mA\u001b[42mA\u001b[41mG\u001b[41mG\u001b[41mG\u001b[41mG\u001b[44mT\u001b[43mC\u001b[42mA\u001b[0m \u001b[44mT\u001b[43mC\u001b[41mG\u001b[42mA\u001b[43mC\u001b[44mT\u001b[44mT\u001b[43mC\u001b[44mT\u001b[43mC\u001b[0m \u001b[41mG\u001b[41mG\u001b[43mC\u001b[41mG\u001b[41mG\u001b[43mC\u001b[43mC\u001b[43mC\u001b[42mA\u001b[43mC\u001b[0m \u001b[41mG\u001b[43mC\u001b[42mA\u001b[41mG\u001b[43mC\u001b[43mC\u001b[43mC\u001b[41mG\u001b[44mT\u001b[41mG\u001b[0m \u001b[41mG\u001b[43mC\u001b[42mA\u001b[42mA\u001b[41mG\u001b[41mG\u001b[41mG\u001b[44mT\u001b[43mC\u001b[43mC\u001b[0m \u001b[44mT\u001b[41mG\u001b[41mG\u001b[44mT\u001b[41mG\u001b[43mC\u001b[43mC\u001b[43mC\u001b[42mA\u001b[42mA\n",
            "\u001b[42mA\u001b[42mA\u001b[41mG\u001b[41mG\u001b[44mT\u001b[41mG\u001b[42mA\u001b[44mT\u001b[43mC\u001b[42mA\u001b[0m \u001b[42mA\u001b[42mA\u001b[44mT\u001b[43mC\u001b[44mT\u001b[43mC\u001b[42mA\u001b[41mG\u001b[43mC\u001b[44mT\u001b[0m \u001b[42mA\u001b[42mA\u001b[42mA\u001b[44mT\u001b[41mG\u001b[44mT\u001b[41mG\u001b[44mT\u001b[43mC\u001b[44mT\u001b[0m \u001b[44mT\u001b[43mC\u001b[44mT\u001b[41mG\u001b[44mT\u001b[43mC\u001b[42mA\u001b[41mG\u001b[44mT\u001b[41mG\u001b[0m \u001b[42mA\u001b[41mG\u001b[43mC\u001b[42mA\u001b[41mG\u001b[42mA\u001b[42mA\u001b[44mT\u001b[41mG\u001b[43mC\u001b[0m \u001b[42mA\u001b[44mT\u001b[42mA\u001b[44mT\u001b[42mA\u001b[41mG\u001b[42mA\u001b[41mG\u001b[43mC\u001b[42mA\n",
            "\u001b[41mG\u001b[41mG\u001b[44mT\u001b[43mC\u001b[44mT\u001b[44mT\u001b[43mC\u001b[42mA\u001b[41mG\u001b[43mC\u001b[0m \u001b[43mC\u001b[43mC\u001b[41mG\u001b[44mT\u001b[43mC\u001b[42mA\u001b[41mG\u001b[43mC\u001b[42mA\u001b[42mA\u001b[0m \u001b[41mG\u001b[44mT\u001b[41mG\u001b[41mG\u001b[43mC\u001b[42mA\u001b[42mA\u001b[41mG\u001b[43mC\u001b[43mC\u001b[0m \u001b[44mT\u001b[42mA\u001b[44mT\u001b[41mG\u001b[41mG\u001b[42mA\u001b[43mC\u001b[44mT\u001b[43mC\u001b[42mA\u001b[0m \u001b[42mA\u001b[42mA\u001b[41mG\u001b[41mG\u001b[43mC\u001b[44mT\u001b[42mA\u001b[44mT\u001b[43mC\u001b[43mC\u001b[0m \u001b[44mT\u001b[41mG\u001b[41mG\u001b[41mG\u001b[44mT\u001b[44mT\u001b[44mT\u001b[42mA\u001b[44mT\u001b[44mT\n",
            "\u001b[44mT\u001b[44mT\u001b[44mT\u001b[42mA\u001b[44mT\u001b[43mC\u001b[43mC\u001b[43mC\u001b[42mA\u001b[42mA\u001b[0m \u001b[42mA\u001b[43mC\u001b[43mC\u001b[43mC\u001b[43mC\u001b[44mT\u001b[44mT\u001b[43mC\u001b[43mC\u001b[44mT\u001b[0m \u001b[43mC\u001b[43mC\u001b[43mC\u001b[42mA\u001b[41mG\u001b[41mG\u001b[44mT\u001b[44mT\u001b[42mA\u001b[43mC\u001b[0m \u001b[43mC\u001b[42mA\u001b[41mG\u001b[44mT\u001b[41mG\u001b[41mG\u001b[43mC\u001b[42mA\u001b[43mC\u001b[44mT\u001b[0m \u001b[41mG\u001b[41mG\u001b[41mG\u001b[44mT\u001b[41mG\u001b[42mA\u001b[42mA\u001b[42mA\u001b[43mC\u001b[42mA\u001b[0m \u001b[41mG\u001b[44mT\u001b[41mG\u001b[43mC\u001b[43mC\u001b[44mT\u001b[44mT\u001b[42mA\u001b[42mA\u001b[41mG\n",
            "\u001b[44mT\u001b[44mT\u001b[42mA\u001b[44mT\u001b[42mA\u001b[44mT\u001b[44mT\u001b[43mC\u001b[43mC\u001b[43mC\u001b[0m \u001b[42mA\u001b[41mG\u001b[42mA\u001b[42mA\u001b[42mA\u001b[43mC\u001b[43mC\u001b[44mT\u001b[42mA\u001b[42mA\u001b[0m \u001b[44mT\u001b[41mG\u001b[44mT\u001b[42mA\u001b[44mT\u001b[41mG\u001b[44mT\u001b[42mA\u001b[42mA\u001b[43mC\u001b[0m \u001b[43mC\u001b[44mT\u001b[41mG\u001b[41mG\u001b[42mA\u001b[43mC\u001b[42mA\u001b[42mA\u001b[42mA\u001b[43mC\u001b[0m \u001b[42mA\u001b[43mC\u001b[42mA\u001b[44mT\u001b[41mG\u001b[44mT\u001b[43mC\u001b[44mT\u001b[42mA\u001b[42mA\u001b[0m \u001b[42mA\u001b[41mG\u001b[42mA\u001b[42mA\u001b[41mG\u001b[42mA\u001b[41mG\u001b[42mA\u001b[43mC\u001b[43mC\n",
            "\u001b[43mC\u001b[42mA\u001b[42mA\u001b[41mG\u001b[42mA\u001b[44mT\u001b[43mC\u001b[44mT\u001b[41mG\u001b[44mT\u001b[0m \u001b[41mG\u001b[41mG\u001b[41mG\u001b[42mA\u001b[42mA\u001b[43mC\u001b[42mA\u001b[41mG\u001b[42mA\u001b[41mG\u001b[0m \u001b[43mC\u001b[42mA\u001b[42mA\u001b[42mA\u001b[41mG\u001b[42mA\u001b[41mG\u001b[44mT\u001b[44mT\u001b[43mC\u001b[0m \u001b[43mC\u001b[44mT\u001b[41mG\u001b[42mA\u001b[41mG\u001b[41mG\u001b[44mT\u001b[42mA\u001b[44mT\u001b[42mA\u001b[0m \u001b[42mA\u001b[42mA\u001b[41mG\u001b[42mA\u001b[42mA\u001b[41mG\u001b[43mC\u001b[41mG\u001b[42mA\u001b[43mC\u001b[0m \u001b[44mT\u001b[42mA\u001b[42mA\u001b[42mA\u001b[43mC\u001b[41mG\u001b[41mG\u001b[42mA\u001b[41mG\u001b[42mA\n",
            "\u001b[43mC\u001b[43mC\u001b[43mC\u001b[43mC\u001b[41mG\u001b[42mA\u001b[42mA\u001b[41mG\u001b[44mT\u001b[44mT\u001b[0m \u001b[44mT\u001b[42mA\u001b[43mC\u001b[44mT\u001b[41mG\u001b[41mG\u001b[42mA\u001b[41mG\u001b[42mA\u001b[42mA\u001b[0m \u001b[42mA\u001b[43mC\u001b[44mT\u001b[41mG\u001b[43mC\u001b[41mG\u001b[44mT\u001b[44mT\u001b[41mG\u001b[41mG\u001b[0m \u001b[41mG\u001b[44mT\u001b[41mG\u001b[42mA\u001b[43mC\u001b[43mC\u001b[41mG\u001b[44mT\u001b[42mA\u001b[41mG\u001b[0m \u001b[41mG\u001b[43mC\u001b[44mT\u001b[42mA\u001b[43mC\u001b[43mC\u001b[42mA\u001b[44mT\u001b[44mT\u001b[42mA\u001b[0m \u001b[44mT\u001b[42mA\u001b[42mA\u001b[43mC\u001b[44mT\u001b[41mG\u001b[41mG\u001b[41mG\u001b[42mA\u001b[43mC\n",
            "\u001b[42mA\u001b[41mG\u001b[44mT\u001b[42mA\u001b[42mA\u001b[41mG\u001b[42mA\u001b[42mA\u001b[42mA\u001b[44mT\u001b[0m \u001b[42mA\u001b[43mC\u001b[44mT\u001b[43mC\u001b[42mA\u001b[41mG\u001b[43mC\u001b[42mA\u001b[41mG\u001b[42mA\u001b[0m \u001b[44mT\u001b[43mC\u001b[42mA\u001b[44mT\u001b[44mT\u001b[42mA\u001b[43mC\u001b[42mA\u001b[43mC\u001b[42mA\u001b[0m \u001b[43mC\u001b[43mC\u001b[44mT\u001b[44mT\u001b[44mT\u001b[43mC\u001b[43mC\u001b[43mC\u001b[44mT\u001b[44mT\u001b[0m \u001b[43mC\u001b[44mT\u001b[41mG\u001b[42mA\u001b[43mC\u001b[43mC\u001b[44mT\u001b[41mG\u001b[41mG\u001b[41mG\u001b[0m \u001b[44mT\u001b[44mT\u001b[44mT\u001b[43mC\u001b[43mC\u001b[44mT\u001b[43mC\u001b[44mT\u001b[43mC\u001b[42mA\n",
            "\u001b[41mG\u001b[42mA\u001b[41mG\u001b[43mC\u001b[42mA\u001b[42mA\u001b[41mG\u001b[44mT\u001b[42mA\u001b[41mG\u001b[0m \u001b[43mC\u001b[43mC\u001b[41mG\u001b[43mC\u001b[44mT\u001b[41mG\u001b[43mC\u001b[43mC\u001b[44mT\u001b[41mG\u001b[0m \u001b[44mT\u001b[41mG\u001b[41mG\u001b[42mA\u001b[44mT\u001b[44mT\u001b[44mT\u001b[41mG\u001b[42mA\u001b[41mG\u001b[0m \u001b[41mG\u001b[42mA\u001b[44mT\u001b[44mT\u001b[44mT\u001b[43mC\u001b[43mC\u001b[41mG\u001b[42mA\u001b[41mG\u001b[0m \u001b[43mC\u001b[44mT\u001b[41mG\u001b[42mA\u001b[42mA\u001b[41mG\u001b[43mC\u001b[42mA\u001b[41mG\u001b[41mG\u001b[0m \u001b[41mG\u001b[42mA\u001b[44mT\u001b[43mC\u001b[43mC\u001b[44mT\u001b[41mG\u001b[42mA\u001b[42mA\u001b[44mT\n",
            "\u001b[44mT\u001b[42mA\u001b[43mC\u001b[44mT\u001b[42mA\u001b[43mC\u001b[43mC\u001b[41mG\u001b[43mC\u001b[43mC\u001b[0m \u001b[44mT\u001b[41mG\u001b[41mG\u001b[42mA\u001b[43mC\u001b[44mT\u001b[43mC\u001b[43mC\u001b[42mA\u001b[43mC\u001b[0m \u001b[42mA\u001b[43mC\u001b[44mT\u001b[41mG\u001b[41mG\u001b[41mG\u001b[42mA\u001b[42mA\u001b[44mT\u001b[43mC\u001b[0m \u001b[43mC\u001b[42mA\u001b[43mC\u001b[41mG\u001b[44mT\u001b[42mA\u001b[41mG\u001b[42mA\u001b[43mC\u001b[42mA\u001b[0m \u001b[41mG\u001b[42mA\u001b[44mT\u001b[43mC\u001b[44mT\u001b[41mG\u001b[42mA\u001b[41mG\u001b[43mC\u001b[44mT\u001b[0m \u001b[42mA\u001b[41mG\u001b[42mA\u001b[44mT\u001b[43mC\u001b[42mA\u001b[43mC\u001b[44mT\u001b[43mC\u001b[43mC\n",
            "\u001b[42mA\u001b[42mA\u001b[42mA\u001b[43mC\u001b[43mC\u001b[43mC\u001b[44mT\u001b[44mT\u001b[41mG\u001b[43mC\u001b[0m \u001b[44mT\u001b[41mG\u001b[44mT\u001b[43mC\u001b[42mA\u001b[44mT\u001b[44mT\u001b[43mC\u001b[42mA\u001b[41mG\u001b[0m \u001b[43mC\u001b[44mT\u001b[44mT\u001b[44mT\u001b[41mG\u001b[41mG\u001b[42mA\u001b[43mC\u001b[42mA\u001b[41mG\u001b[0m \u001b[44mT\u001b[43mC\u001b[43mC\u001b[41mG\u001b[43mC\u001b[43mC\u001b[42mA\u001b[44mT\u001b[43mC\u001b[44mT\u001b[0m \u001b[44mT\u001b[44mT\u001b[43mC\u001b[44mT\u001b[43mC\u001b[43mC\u001b[44mT\u001b[41mG\u001b[41mG\u001b[41mG\u001b[0m \u001b[44mT\u001b[41mG\u001b[41mG\u001b[44mT\u001b[43mC\u001b[44mT\u001b[44mT\u001b[43mC\u001b[42mA\u001b[42mA\n",
            "\u001b[42mA\u001b[41mG\u001b[41mG\u001b[41mG\u001b[42mA\u001b[44mT\u001b[41mG\u001b[42mA\u001b[41mG\u001b[41mG\u001b[0m \u001b[43mC\u001b[43mC\u001b[43mC\u001b[43mC\u001b[43mC\u001b[42mA\u001b[43mC\u001b[41mG\u001b[41mG\u001b[43mC\u001b[0m \u001b[43mC\u001b[42mA\u001b[44mT\u001b[41mG\u001b[44mT\u001b[44mT\u001b[44mT\u001b[42mA\u001b[44mT\u001b[41mG\u001b[0m \u001b[43mC\u001b[42mA\u001b[43mC\u001b[42mA\u001b[41mG\u001b[44mT\u001b[41mG\u001b[41mG\u001b[44mT\u001b[41mG\u001b[0m \u001b[42mA\u001b[43mC\u001b[42mA\u001b[44mT\u001b[43mC\u001b[42mA\u001b[44mT\u001b[41mG\u001b[42mA\u001b[44mT\u001b[0m \u001b[42mA\u001b[42mA\u001b[44mT\u001b[41mG\u001b[44mT\u001b[43mC\u001b[41mG\u001b[41mG\u001b[41mG\u001b[44mT\n",
            "\u001b[44mT\u001b[44mT\u001b[43mC\u001b[42mA\u001b[41mG\u001b[43mC\u001b[43mC\u001b[41mG\u001b[43mC\u001b[43mC\u001b[0m \u001b[44mT\u001b[43mC\u001b[44mT\u001b[44mT\u001b[41mG\u001b[42mA\u001b[42mA\u001b[43mC\u001b[43mC\u001b[42mA\u001b[0m \u001b[43mC\u001b[41mG\u001b[43mC\u001b[42mA\u001b[41mG\u001b[44mT\u001b[43mC\u001b[43mC\u001b[43mC\u001b[44mT\u001b[0m \u001b[43mC\u001b[41mG\u001b[44mT\u001b[41mG\u001b[44mT\u001b[43mC\u001b[43mC\u001b[44mT\u001b[44mT\u001b[43mC\u001b[0m \u001b[43mC\u001b[42mA\u001b[42mA\u001b[42mA\u001b[44mT\u001b[43mC\u001b[43mC\u001b[42mA\u001b[41mG\u001b[42mA\u001b[0m \u001b[42mA\u001b[41mG\u001b[41mG\u001b[41mG\u001b[41mG\u001b[42mA\u001b[42mA\u001b[41mG\u001b[41mG\u001b[43mC\n",
            "\u001b[43mC\u001b[44mT\u001b[41mG\u001b[43mC\u001b[43mC\u001b[44mT\u001b[43mC\u001b[42mA\u001b[43mC\u001b[44mT\u001b[0m \u001b[41mG\u001b[43mC\u001b[43mC\u001b[44mT\u001b[42mA\u001b[41mG\u001b[42mA\u001b[41mG\u001b[41mG\u001b[43mC\u001b[0m \u001b[42mA\u001b[43mC\u001b[43mC\u001b[44mT\u001b[43mC\u001b[44mT\u001b[43mC\u001b[43mC\u001b[43mC\u001b[44mT\u001b[0m \u001b[41mG\u001b[43mC\u001b[44mT\u001b[41mG\u001b[44mT\u001b[43mC\u001b[43mC\u001b[44mT\u001b[43mC\u001b[43mC\u001b[0m \u001b[43mC\u001b[41mG\u001b[42mA\u001b[41mG\u001b[42mA\u001b[41mG\u001b[42mA\u001b[44mT\u001b[44mT\u001b[43mC\u001b[0m \u001b[42mA\u001b[42mA\u001b[44mT\u001b[41mG\u001b[41mG\u001b[44mT\u001b[42mA\u001b[41mG\u001b[42mA\u001b[41mG\n",
            "\u001b[43mC\u001b[43mC\u001b[44mT\u001b[44mT\u001b[41mG\u001b[44mT\u001b[44mT\u001b[43mC\u001b[44mT\u001b[42mA\u001b[0m \u001b[44mT\u001b[41mG\u001b[41mG\u001b[42mA\u001b[41mG\u001b[41mG\u001b[42mA\u001b[43mC\u001b[44mT\u001b[41mG\u001b[0m \u001b[41mG\u001b[43mC\u001b[42mA\u001b[41mG\u001b[41mG\u001b[44mT\u001b[41mG\u001b[44mT\u001b[41mG\u001b[44mT\u001b[0m \u001b[41mG\u001b[43mC\u001b[43mC\u001b[42mA\u001b[41mG\u001b[43mC\u001b[44mT\u001b[42mA\u001b[43mC\u001b[44mT\u001b[0m \u001b[44mT\u001b[41mG\u001b[42mA\u001b[42mA\u001b[41mG\u001b[42mA\u001b[43mC\u001b[43mC\u001b[41mG\u001b[43mC\u001b[0m \u001b[44mT\u001b[43mC\u001b[41mG\u001b[44mT\u001b[41mG\u001b[44mT\u001b[44mT\u001b[42mA\u001b[42mA\u001b[43mC\n",
            "\u001b[42mA\u001b[44mT\u001b[41mG\u001b[42mA\u001b[43mC\u001b[44mT\u001b[41mG\u001b[44mT\u001b[43mC\u001b[43mC\u001b[0m \u001b[41mG\u001b[42mA\u001b[43mC\u001b[42mA\u001b[41mG\u001b[41mG\u001b[44mT\u001b[43mC\u001b[43mC\u001b[44mT\u001b[0m \u001b[41mG\u001b[41mG\u001b[43mC\u001b[43mC\u001b[42mA\u001b[43mC\u001b[42mA\u001b[41mG\u001b[42mA\u001b[43mC\u001b[0m \u001b[43mC\u001b[42mA\u001b[41mG\u001b[42mA\u001b[42mA\u001b[44mT\u001b[44mT\u001b[44mT\u001b[43mC\u001b[43mC\u001b[0m \u001b[43mC\u001b[44mT\u001b[43mC\u001b[44mT\u001b[42mA\u001b[41mG\u001b[42mA\u001b[42mA\u001b[43mC\u001b[43mC\u001b[0m \u001b[43mC\u001b[42mA\u001b[44mT\u001b[43mC\u001b[41mG\u001b[42mA\u001b[41mG\u001b[41mG\u001b[42mA\u001b[44mT\n",
            "\u001b[41mG\u001b[42mA\u001b[42mA\u001b[42mA\u001b[42mA\u001b[42mA\u001b[42mA\u001b[41mG\u001b[42mA\u001b[41mG\u001b[0m \u001b[42mA\u001b[43mC\u001b[42mA\u001b[44mT\u001b[43mC\u001b[42mA\u001b[41mG\u001b[44mT\u001b[42mA\u001b[43mC\u001b[0m \u001b[42mA\u001b[41mG\u001b[42mA\u001b[42mA\u001b[41mG\u001b[41mG\u001b[44mT\u001b[44mT\u001b[44mT\u001b[43mC\u001b[0m \u001b[44mT\u001b[41mG\u001b[43mC\u001b[43mC\u001b[42mA\u001b[44mT\u001b[43mC\u001b[44mT\u001b[41mG\u001b[41mG\u001b[0m \u001b[42mA\u001b[44mT\u001b[41mG\u001b[42mA\u001b[43mC\u001b[43mC\u001b[42mA\u001b[41mG\u001b[42mA\u001b[42mA\u001b[0m \u001b[44mT\u001b[42mA\u001b[41mG\u001b[43mC\u001b[41mG\u001b[42mA\u001b[42mA\u001b[41mG\u001b[44mT\u001b[42mA\n",
            "\u001b[42mA\u001b[42mA\u001b[42mA\u001b[43mC\u001b[41mG\u001b[41mG\u001b[41mG\u001b[43mC\u001b[43mC\u001b[42mA\u001b[0m \u001b[41mG\u001b[41mG\u001b[42mA\u001b[44mT\u001b[42mA\u001b[42mA\u001b[42mA\u001b[43mC\u001b[43mC\u001b[43mC\u001b[0m \u001b[44mT\u001b[43mC\u001b[42mA\u001b[43mC\u001b[42mA\u001b[41mG\u001b[43mC\u001b[44mT\u001b[44mT\u001b[41mG"
          ]
        }
      ]
    },
    {
      "cell_type": "code",
      "source": [
        "len(ncov_dna)"
      ],
      "metadata": {
        "colab": {
          "base_uri": "https://localhost:8080/"
        },
        "id": "22j7vMXjy5no",
        "outputId": "bb9ab645-be60-4172-b5a2-43cb54a6f701"
      },
      "execution_count": 14,
      "outputs": [
        {
          "output_type": "execute_result",
          "data": {
            "text/plain": [
              "1170"
            ]
          },
          "metadata": {},
          "execution_count": 14
        }
      ]
    },
    {
      "cell_type": "code",
      "source": [
        "def nucleotides_composition(seq):\n",
        "    nucleotides = {'A': 0, 'C': 0, 'G': 0, 'T': 0}\n",
        "    for n in nucleotides:\n",
        "        nucleotides[n] = seq.count(n)/len(seq)*100\n",
        "    return nucleotides"
      ],
      "metadata": {
        "id": "XtEEPCyIzHHa"
      },
      "execution_count": 15,
      "outputs": []
    },
    {
      "cell_type": "code",
      "source": [
        "ndict=nucleotides_composition(ncov_dna)\n",
        "ndict"
      ],
      "metadata": {
        "colab": {
          "base_uri": "https://localhost:8080/"
        },
        "id": "tTi2jUp1zO7W",
        "outputId": "42003568-ad1a-42ad-fad6-b96d5c8186d2"
      },
      "execution_count": 16,
      "outputs": [
        {
          "output_type": "execute_result",
          "data": {
            "text/plain": [
              "{'A': 25.128205128205128,\n",
              " 'C': 26.581196581196583,\n",
              " 'G': 25.8974358974359,\n",
              " 'T': 22.393162393162395}"
            ]
          },
          "metadata": {},
          "execution_count": 16
        }
      ]
    },
    {
      "cell_type": "code",
      "source": [
        "import pandas as pd\n",
        "ndf = pd.DataFrame.from_dict(ndict, orient ='index')\n",
        "ndf = ndf.reset_index()\n",
        "ndf = ndf.rename(columns={\"index\": \"Nucleotide\", 0: \"Composition\"})\n",
        "sns.set(style=\"whitegrid\")\n",
        "custom_colors = [\"#4c72b0\", \"#55a868\", \"#c44e52\", \"#8172b3\"]\n",
        "ax = sns.barplot(x=\"Nucleotide\", y=\"Composition\", data=ndf, palette=custom_colors)\n",
        "plt.show()"
      ],
      "metadata": {
        "colab": {
          "base_uri": "https://localhost:8080/",
          "height": 565
        },
        "id": "CLCS3Z1xzQ42",
        "outputId": "42009c60-caf1-45cd-cc52-5f41b7fd5107"
      },
      "execution_count": 41,
      "outputs": [
        {
          "output_type": "stream",
          "name": "stderr",
          "text": [
            "<ipython-input-41-910a50168fd4>:7: FutureWarning: \n",
            "\n",
            "Passing `palette` without assigning `hue` is deprecated and will be removed in v0.14.0. Assign the `x` variable to `hue` and set `legend=False` for the same effect.\n",
            "\n",
            "  ax = sns.barplot(x=\"Nucleotide\", y=\"Composition\", data=ndf, palette=custom_colors)\n"
          ]
        },
        {
          "output_type": "display_data",
          "data": {
            "text/plain": [
              "<Figure size 640x480 with 1 Axes>"
            ],
            "image/png": "[encoded data removed]"
          },
          "metadata": {}
        }
      ]
    },
    {
      "cell_type": "code",
      "source": [
        "!pip install biopython\n",
        "from Bio.SeqUtils import gc_fraction\n",
        "from Bio.Seq import Seq # Import the Seq object\n",
        "\n",
        "# Assuming ncov_dna is a string\n",
        "ncov_dna = ncov_dna# Example sequence, replace with yours\n",
        "\n",
        "print(f\"GC% :{gc_fraction(ncov_dna)}\") # Call the correct function"
      ],
      "metadata": {
        "colab": {
          "base_uri": "https://localhost:8080/"
        },
        "id": "ZnqPAZybzWRZ",
        "outputId": "99b5ff2b-abbd-419e-a3b1-3a0f8f217d76"
      },
      "execution_count": 26,
      "outputs": [
        {
          "output_type": "stream",
          "name": "stdout",
          "text": [
            "Requirement already satisfied: biopython in /usr/local/lib/python3.10/dist-packages (1.83)\n",
            "Requirement already satisfied: numpy in /usr/local/lib/python3.10/dist-packages (from biopython) (1.25.2)\n",
            "GC% :0.68\n"
          ]
        }
      ]
    },
    {
      "cell_type": "code",
      "source": [
        "# tri-nucleotide compositions\n",
        "trimers = [\"AAA\", \"AAC\", \"AAG\", \"AAT\", \"ACA\", \"ACC\", \"ACG\", \"ACT\", \"AGA\", \"AGC\", \"AGG\", \"ATA\", \"ATC\", \"ATG\", \"CAA\",\n",
        "           \"CAC\", \"CAG\", \"CCA\",\"CCC\",\"CCG\",\"CGA\",\"CGC\",\"CTA\",\"CTC\",\"GAA\",\"GAC\",\"GCA\",\"GCC\",\"GGA\",\"GTA\",\"TAA\",\"TCA\"]\n",
        "\n",
        "def trimer_composition(genome):\n",
        "    trimer_dict = dict()\n",
        "    for trimer in trimers:\n",
        "        trimer_dict[trimer] = genome.count(trimer)\n",
        "    return trimer_dict"
      ],
      "metadata": {
        "id": "-blStYP8vpHn"
      },
      "execution_count": 27,
      "outputs": []
    },
    {
      "cell_type": "code",
      "source": [
        "composition = trimer_composition(ncov_dna)\n",
        "total_composition = sum(composition.values())\n",
        "norm_freq = [count/total_composition for count in composition.values()]\n",
        "print(composition)\n",
        "print(total_composition)\n",
        "print(norm_freq)"
      ],
      "metadata": {
        "colab": {
          "base_uri": "https://localhost:8080/"
        },
        "id": "cSWpg6-g00Rj",
        "outputId": "8f6251ba-89b8-4000-f8ee-647a85bafd11"
      },
      "execution_count": 28,
      "outputs": [
        {
          "output_type": "stream",
          "name": "stdout",
          "text": [
            "{'AAA': 0, 'AAC': 0, 'AAG': 1, 'AAT': 0, 'ACA': 0, 'ACC': 0, 'ACG': 0, 'ACT': 0, 'AGA': 1, 'AGC': 1, 'AGG': 0, 'ATA': 0, 'ATC': 0, 'ATG': 2, 'CAA': 0, 'CAC': 0, 'CAG': 1, 'CCA': 0, 'CCC': 0, 'CCG': 1, 'CGA': 0, 'CGC': 0, 'CTA': 0, 'CTC': 0, 'GAA': 1, 'GAC': 0, 'GCA': 1, 'GCC': 1, 'GGA': 1, 'GTA': 0, 'TAA': 0, 'TCA': 0}\n",
            "11\n",
            "[0.0, 0.0, 0.09090909090909091, 0.0, 0.0, 0.0, 0.0, 0.0, 0.09090909090909091, 0.09090909090909091, 0.0, 0.0, 0.0, 0.18181818181818182, 0.0, 0.0, 0.09090909090909091, 0.0, 0.0, 0.09090909090909091, 0.0, 0.0, 0.0, 0.0, 0.09090909090909091, 0.0, 0.09090909090909091, 0.09090909090909091, 0.09090909090909091, 0.0, 0.0, 0.0]\n"
          ]
        }
      ]
    },
    {
      "cell_type": "code",
      "source": [
        "tri = pd.DataFrame.from_dict(composition, orient ='index')\n",
        "tri = tri.reset_index()\n",
        "tri = tri.rename(columns={\"index\": \"trimer\", 0: \"count\"})"
      ],
      "metadata": {
        "id": "6veKAf6R03S4"
      },
      "execution_count": 29,
      "outputs": []
    },
    {
      "cell_type": "code",
      "source": [
        "r1 = tri.sort_values(by='count', ascending=False)\n",
        "r1.style.bar(subset=[\"count\"],color='#').background_gradient(cmap='Reds')"
      ],
      "metadata": {
        "colab": {
          "base_uri": "https://localhost:8080/",
          "height": 1000
        },
        "id": "ZJJGUFux07G1",
        "outputId": "fcdae7f4-3902-4b4e-a0d1-a83c6825a767"
      },
      "execution_count": 30,
      "outputs": [
        {
          "output_type": "execute_result",
          "data": {
            "text/plain": [
              "<pandas.io.formats.style.Styler at 0x7c04709bc160>"
            ],
            "text/html": [
              "<style type=\"text/css\">\n",
              "#T_dac43_row0_col1 {\n",
              "  width: 10em;\n",
              "  background: linear-gradient(90deg, # 100.0%, transparent 100.0%);\n",
              "  background-color: #67000d;\n",
              "  color: #f1f1f1;\n",
              "}\n",
              "#T_dac43_row1_col1, #T_dac43_row2_col1, #T_dac43_row3_col1, #T_dac43_row4_col1, #T_dac43_row5_col1, #T_dac43_row6_col1, #T_dac43_row7_col1, #T_dac43_row8_col1, #T_dac43_row9_col1 {\n",
              "  width: 10em;\n",
              "  background: linear-gradient(90deg, # 50.0%, transparent 50.0%);\n",
              "  background-color: #fb694a;\n",
              "  color: #f1f1f1;\n",
              "}\n",
              "#T_dac43_row10_col1, #T_dac43_row11_col1, #T_dac43_row12_col1, #T_dac43_row13_col1, #T_dac43_row14_col1, #T_dac43_row15_col1, #T_dac43_row16_col1, #T_dac43_row17_col1, #T_dac43_row18_col1, #T_dac43_row19_col1, #T_dac43_row20_col1, #T_dac43_row21_col1, #T_dac43_row22_col1, #T_dac43_row23_col1, #T_dac43_row24_col1, #T_dac43_row25_col1, #T_dac43_row26_col1, #T_dac43_row27_col1, #T_dac43_row28_col1, #T_dac43_row29_col1, #T_dac43_row30_col1, #T_dac43_row31_col1 {\n",
              "  width: 10em;\n",
              "  background-color: #fff5f0;\n",
              "  color: #000000;\n",
              "}\n",
              "</style>\n",
              "<table id=\"T_dac43\" class=\"dataframe\">\n",
              "  <thead>\n",
              "    <tr>\n",
              "      <th class=\"blank level0\" >&nbsp;</th>\n",
              "      <th id=\"T_dac43_level0_col0\" class=\"col_heading level0 col0\" >trimer</th>\n",
              "      <th id=\"T_dac43_level0_col1\" class=\"col_heading level0 col1\" >count</th>\n",
              "    </tr>\n",
              "  </thead>\n",
              "  <tbody>\n",
              "    <tr>\n",
              "      <th id=\"T_dac43_level0_row0\" class=\"row_heading level0 row0\" >13</th>\n",
              "      <td id=\"T_dac43_row0_col0\" class=\"data row0 col0\" >ATG</td>\n",
              "      <td id=\"T_dac43_row0_col1\" class=\"data row0 col1\" >2</td>\n",
              "    </tr>\n",
              "    <tr>\n",
              "      <th id=\"T_dac43_level0_row1\" class=\"row_heading level0 row1\" >16</th>\n",
              "      <td id=\"T_dac43_row1_col0\" class=\"data row1 col0\" >CAG</td>\n",
              "      <td id=\"T_dac43_row1_col1\" class=\"data row1 col1\" >1</td>\n",
              "    </tr>\n",
              "    <tr>\n",
              "      <th id=\"T_dac43_level0_row2\" class=\"row_heading level0 row2\" >27</th>\n",
              "      <td id=\"T_dac43_row2_col0\" class=\"data row2 col0\" >GCC</td>\n",
              "      <td id=\"T_dac43_row2_col1\" class=\"data row2 col1\" >1</td>\n",
              "    </tr>\n",
              "    <tr>\n",
              "      <th id=\"T_dac43_level0_row3\" class=\"row_heading level0 row3\" >24</th>\n",
              "      <td id=\"T_dac43_row3_col0\" class=\"data row3 col0\" >GAA</td>\n",
              "      <td id=\"T_dac43_row3_col1\" class=\"data row3 col1\" >1</td>\n",
              "    </tr>\n",
              "    <tr>\n",
              "      <th id=\"T_dac43_level0_row4\" class=\"row_heading level0 row4\" >8</th>\n",
              "      <td id=\"T_dac43_row4_col0\" class=\"data row4 col0\" >AGA</td>\n",
              "      <td id=\"T_dac43_row4_col1\" class=\"data row4 col1\" >1</td>\n",
              "    </tr>\n",
              "    <tr>\n",
              "      <th id=\"T_dac43_level0_row5\" class=\"row_heading level0 row5\" >26</th>\n",
              "      <td id=\"T_dac43_row5_col0\" class=\"data row5 col0\" >GCA</td>\n",
              "      <td id=\"T_dac43_row5_col1\" class=\"data row5 col1\" >1</td>\n",
              "    </tr>\n",
              "    <tr>\n",
              "      <th id=\"T_dac43_level0_row6\" class=\"row_heading level0 row6\" >9</th>\n",
              "      <td id=\"T_dac43_row6_col0\" class=\"data row6 col0\" >AGC</td>\n",
              "      <td id=\"T_dac43_row6_col1\" class=\"data row6 col1\" >1</td>\n",
              "    </tr>\n",
              "    <tr>\n",
              "      <th id=\"T_dac43_level0_row7\" class=\"row_heading level0 row7\" >28</th>\n",
              "      <td id=\"T_dac43_row7_col0\" class=\"data row7 col0\" >GGA</td>\n",
              "      <td id=\"T_dac43_row7_col1\" class=\"data row7 col1\" >1</td>\n",
              "    </tr>\n",
              "    <tr>\n",
              "      <th id=\"T_dac43_level0_row8\" class=\"row_heading level0 row8\" >2</th>\n",
              "      <td id=\"T_dac43_row8_col0\" class=\"data row8 col0\" >AAG</td>\n",
              "      <td id=\"T_dac43_row8_col1\" class=\"data row8 col1\" >1</td>\n",
              "    </tr>\n",
              "    <tr>\n",
              "      <th id=\"T_dac43_level0_row9\" class=\"row_heading level0 row9\" >19</th>\n",
              "      <td id=\"T_dac43_row9_col0\" class=\"data row9 col0\" >CCG</td>\n",
              "      <td id=\"T_dac43_row9_col1\" class=\"data row9 col1\" >1</td>\n",
              "    </tr>\n",
              "    <tr>\n",
              "      <th id=\"T_dac43_level0_row10\" class=\"row_heading level0 row10\" >29</th>\n",
              "      <td id=\"T_dac43_row10_col0\" class=\"data row10 col0\" >GTA</td>\n",
              "      <td id=\"T_dac43_row10_col1\" class=\"data row10 col1\" >0</td>\n",
              "    </tr>\n",
              "    <tr>\n",
              "      <th id=\"T_dac43_level0_row11\" class=\"row_heading level0 row11\" >18</th>\n",
              "      <td id=\"T_dac43_row11_col0\" class=\"data row11 col0\" >CCC</td>\n",
              "      <td id=\"T_dac43_row11_col1\" class=\"data row11 col1\" >0</td>\n",
              "    </tr>\n",
              "    <tr>\n",
              "      <th id=\"T_dac43_level0_row12\" class=\"row_heading level0 row12\" >25</th>\n",
              "      <td id=\"T_dac43_row12_col0\" class=\"data row12 col0\" >GAC</td>\n",
              "      <td id=\"T_dac43_row12_col1\" class=\"data row12 col1\" >0</td>\n",
              "    </tr>\n",
              "    <tr>\n",
              "      <th id=\"T_dac43_level0_row13\" class=\"row_heading level0 row13\" >30</th>\n",
              "      <td id=\"T_dac43_row13_col0\" class=\"data row13 col0\" >TAA</td>\n",
              "      <td id=\"T_dac43_row13_col1\" class=\"data row13 col1\" >0</td>\n",
              "    </tr>\n",
              "    <tr>\n",
              "      <th id=\"T_dac43_level0_row14\" class=\"row_heading level0 row14\" >23</th>\n",
              "      <td id=\"T_dac43_row14_col0\" class=\"data row14 col0\" >CTC</td>\n",
              "      <td id=\"T_dac43_row14_col1\" class=\"data row14 col1\" >0</td>\n",
              "    </tr>\n",
              "    <tr>\n",
              "      <th id=\"T_dac43_level0_row15\" class=\"row_heading level0 row15\" >22</th>\n",
              "      <td id=\"T_dac43_row15_col0\" class=\"data row15 col0\" >CTA</td>\n",
              "      <td id=\"T_dac43_row15_col1\" class=\"data row15 col1\" >0</td>\n",
              "    </tr>\n",
              "    <tr>\n",
              "      <th id=\"T_dac43_level0_row16\" class=\"row_heading level0 row16\" >21</th>\n",
              "      <td id=\"T_dac43_row16_col0\" class=\"data row16 col0\" >CGC</td>\n",
              "      <td id=\"T_dac43_row16_col1\" class=\"data row16 col1\" >0</td>\n",
              "    </tr>\n",
              "    <tr>\n",
              "      <th id=\"T_dac43_level0_row17\" class=\"row_heading level0 row17\" >20</th>\n",
              "      <td id=\"T_dac43_row17_col0\" class=\"data row17 col0\" >CGA</td>\n",
              "      <td id=\"T_dac43_row17_col1\" class=\"data row17 col1\" >0</td>\n",
              "    </tr>\n",
              "    <tr>\n",
              "      <th id=\"T_dac43_level0_row18\" class=\"row_heading level0 row18\" >0</th>\n",
              "      <td id=\"T_dac43_row18_col0\" class=\"data row18 col0\" >AAA</td>\n",
              "      <td id=\"T_dac43_row18_col1\" class=\"data row18 col1\" >0</td>\n",
              "    </tr>\n",
              "    <tr>\n",
              "      <th id=\"T_dac43_level0_row19\" class=\"row_heading level0 row19\" >17</th>\n",
              "      <td id=\"T_dac43_row19_col0\" class=\"data row19 col0\" >CCA</td>\n",
              "      <td id=\"T_dac43_row19_col1\" class=\"data row19 col1\" >0</td>\n",
              "    </tr>\n",
              "    <tr>\n",
              "      <th id=\"T_dac43_level0_row20\" class=\"row_heading level0 row20\" >1</th>\n",
              "      <td id=\"T_dac43_row20_col0\" class=\"data row20 col0\" >AAC</td>\n",
              "      <td id=\"T_dac43_row20_col1\" class=\"data row20 col1\" >0</td>\n",
              "    </tr>\n",
              "    <tr>\n",
              "      <th id=\"T_dac43_level0_row21\" class=\"row_heading level0 row21\" >15</th>\n",
              "      <td id=\"T_dac43_row21_col0\" class=\"data row21 col0\" >CAC</td>\n",
              "      <td id=\"T_dac43_row21_col1\" class=\"data row21 col1\" >0</td>\n",
              "    </tr>\n",
              "    <tr>\n",
              "      <th id=\"T_dac43_level0_row22\" class=\"row_heading level0 row22\" >14</th>\n",
              "      <td id=\"T_dac43_row22_col0\" class=\"data row22 col0\" >CAA</td>\n",
              "      <td id=\"T_dac43_row22_col1\" class=\"data row22 col1\" >0</td>\n",
              "    </tr>\n",
              "    <tr>\n",
              "      <th id=\"T_dac43_level0_row23\" class=\"row_heading level0 row23\" >12</th>\n",
              "      <td id=\"T_dac43_row23_col0\" class=\"data row23 col0\" >ATC</td>\n",
              "      <td id=\"T_dac43_row23_col1\" class=\"data row23 col1\" >0</td>\n",
              "    </tr>\n",
              "    <tr>\n",
              "      <th id=\"T_dac43_level0_row24\" class=\"row_heading level0 row24\" >11</th>\n",
              "      <td id=\"T_dac43_row24_col0\" class=\"data row24 col0\" >ATA</td>\n",
              "      <td id=\"T_dac43_row24_col1\" class=\"data row24 col1\" >0</td>\n",
              "    </tr>\n",
              "    <tr>\n",
              "      <th id=\"T_dac43_level0_row25\" class=\"row_heading level0 row25\" >10</th>\n",
              "      <td id=\"T_dac43_row25_col0\" class=\"data row25 col0\" >AGG</td>\n",
              "      <td id=\"T_dac43_row25_col1\" class=\"data row25 col1\" >0</td>\n",
              "    </tr>\n",
              "    <tr>\n",
              "      <th id=\"T_dac43_level0_row26\" class=\"row_heading level0 row26\" >7</th>\n",
              "      <td id=\"T_dac43_row26_col0\" class=\"data row26 col0\" >ACT</td>\n",
              "      <td id=\"T_dac43_row26_col1\" class=\"data row26 col1\" >0</td>\n",
              "    </tr>\n",
              "    <tr>\n",
              "      <th id=\"T_dac43_level0_row27\" class=\"row_heading level0 row27\" >6</th>\n",
              "      <td id=\"T_dac43_row27_col0\" class=\"data row27 col0\" >ACG</td>\n",
              "      <td id=\"T_dac43_row27_col1\" class=\"data row27 col1\" >0</td>\n",
              "    </tr>\n",
              "    <tr>\n",
              "      <th id=\"T_dac43_level0_row28\" class=\"row_heading level0 row28\" >5</th>\n",
              "      <td id=\"T_dac43_row28_col0\" class=\"data row28 col0\" >ACC</td>\n",
              "      <td id=\"T_dac43_row28_col1\" class=\"data row28 col1\" >0</td>\n",
              "    </tr>\n",
              "    <tr>\n",
              "      <th id=\"T_dac43_level0_row29\" class=\"row_heading level0 row29\" >4</th>\n",
              "      <td id=\"T_dac43_row29_col0\" class=\"data row29 col0\" >ACA</td>\n",
              "      <td id=\"T_dac43_row29_col1\" class=\"data row29 col1\" >0</td>\n",
              "    </tr>\n",
              "    <tr>\n",
              "      <th id=\"T_dac43_level0_row30\" class=\"row_heading level0 row30\" >3</th>\n",
              "      <td id=\"T_dac43_row30_col0\" class=\"data row30 col0\" >AAT</td>\n",
              "      <td id=\"T_dac43_row30_col1\" class=\"data row30 col1\" >0</td>\n",
              "    </tr>\n",
              "    <tr>\n",
              "      <th id=\"T_dac43_level0_row31\" class=\"row_heading level0 row31\" >31</th>\n",
              "      <td id=\"T_dac43_row31_col0\" class=\"data row31 col0\" >TCA</td>\n",
              "      <td id=\"T_dac43_row31_col1\" class=\"data row31 col1\" >0</td>\n",
              "    </tr>\n",
              "  </tbody>\n",
              "</table>\n"
            ]
          },
          "metadata": {},
          "execution_count": 30
        }
      ]
    },
    {
      "cell_type": "code",
      "source": [
        "fig_dims = (12, 8)\n",
        "fig, ax = plt.subplots(figsize=fig_dims)\n",
        "sns.barplot(x=\"count\", y=\"trimer\", ax=ax, data=tri, palette=\"bright\")"
      ],
      "metadata": {
        "colab": {
          "base_uri": "https://localhost:8080/",
          "height": 631
        },
        "id": "mJYNJk3X09va",
        "outputId": "4fac1e02-01d6-4d00-cfa4-1fe2fc54ca86"
      },
      "execution_count": 42,
      "outputs": [
        {
          "output_type": "stream",
          "name": "stderr",
          "text": [
            "<ipython-input-42-05a1be29f95b>:3: FutureWarning: \n",
            "\n",
            "Passing `palette` without assigning `hue` is deprecated and will be removed in v0.14.0. Assign the `y` variable to `hue` and set `legend=False` for the same effect.\n",
            "\n",
            "  sns.barplot(x=\"count\", y=\"trimer\", ax=ax, data=tri, palette=\"bright\")\n"
          ]
        },
        {
          "output_type": "execute_result",
          "data": {
            "text/plain": [
              "<Axes: xlabel='count', ylabel='trimer'>"
            ]
          },
          "metadata": {},
          "execution_count": 42
        },
        {
          "output_type": "display_data",
          "data": {
            "text/plain": [
              "<Figure size 1200x800 with 1 Axes>"
            ],
            "image/png": "[encoded data removed]"
          },
          "metadata": {}
        }
      ]
    },
    {
      "cell_type": "code",
      "source": [],
      "metadata": {
        "id": "GXkcO5oJ1Cin"
      },
      "execution_count": null,
      "outputs": []
    }
  ]
}